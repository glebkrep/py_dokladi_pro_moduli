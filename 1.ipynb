{
  "nbformat": 4,
  "nbformat_minor": 0,
  "metadata": {
    "colab": {
      "name": "First(19).ipynb",
      "provenance": [],
      "collapsed_sections": []
    },
    "kernelspec": {
      "name": "python3",
      "display_name": "Python 3"
    }
  },
  "cells": [
    {
      "cell_type": "markdown",
      "metadata": {
        "id": "xNoUGhLLjQgK"
      },
      "source": [
        "19\t**argparse**\t**getopt**\t**getpass**\t**cmd**\n"
      ]
    },
    {
      "cell_type": "markdown",
      "metadata": {
        "id": "V8ZBuLy-dnbg"
      },
      "source": [
        "# `getopt` - анализатор параметров командной строки\n",
        "функциия getopt () анализирует последовательность аргументов,и возвращает последовательность кортежей в виде пар (параметр, аргумент) и список аргументов программы, остающихся после исключения параметров.\n"
      ]
    },
    {
      "cell_type": "markdown",
      "metadata": {
        "id": "YJKs5ESYgfQ2"
      },
      "source": [
        "Функция **getopt()** принимает три аргумента\n",
        "\n",
        "*Первый аргумент* — последовательность аргументов, подлежащих анализу.\n",
        "Обычно берется из среза sys.argv [1:] (имя программы,\n",
        "содержащееся в элементе sys.arg [0], игнорируется).\n",
        "\n",
        "\n",
        "*Второй аргумент* — строка определения односимвольных параметров. Если\n",
        "какой-либо из параметров требует задания аргумента, вслед за его буквой\n",
        "необходимо указать двоеточие.\n",
        "\n",
        "\n",
        "*Третий аргумент*, если он используется, — последовательность параметров\n",
        "c длинными именами. Такие имена могут включать более одного символа,\n",
        "например `—-noarg` или `—-witharg`. Имена параметров в последовательности должны включать префикс `—-`. Если какой-либо из параметров c длинными именами требует задания аргумента, его имя должно содержать\n",
        "суффикс =."
      ]
    },
    {
      "cell_type": "markdown",
      "metadata": {
        "id": "4kfVBiqKiyol"
      },
      "source": [
        "Односимвольные (короткие) параметры:"
      ]
    },
    {
      "cell_type": "code",
      "metadata": {
        "colab": {
          "base_uri": "https://localhost:8080/"
        },
        "id": "QkbuY_X_fvE6",
        "outputId": "9f9c35bf-3f5c-4e41-b851-f07a998c8a88"
      },
      "source": [
        "import getopt\n",
        "opts, args = getopt.getopt(   # python3 out_py_file.py -a -bval -c val \n",
        "    ['-a',  \n",
        "     '-bval',     # агрумент можно указывать слитно с коротким параметром\n",
        "     '-c','val'], # и через пробел\n",
        "     'ab:c:')          # параметр a - без аргумента, b и c с аргументами (т.к. мы добавили вслед за ними ':')\n",
        "\n",
        "for opt in opts:\n",
        "  print(opt)"
      ],
      "execution_count": null,
      "outputs": [
        {
          "output_type": "stream",
          "text": [
            "('-a', '')\n",
            "('-b', 'val')\n",
            "('-c', 'val')\n"
          ],
          "name": "stdout"
        }
      ]
    },
    {
      "cell_type": "markdown",
      "metadata": {
        "id": "TTtZmv3ckcHQ"
      },
      "source": [
        "Длинная форма параметров:"
      ]
    },
    {
      "cell_type": "code",
      "metadata": {
        "colab": {
          "base_uri": "https://localhost:8080/"
        },
        "id": "lJTZGAbBlBcT",
        "outputId": "7412a509-0069-4dac-fbb2-de0aef490ba7"
      },
      "source": [
        "import getopt\n",
        "opts, args = getopt.getopt(\n",
        "  ['--noarg',\n",
        "  '--witharg', 'val',     # аргумент можно указывать как через пробел после параметра\n",
        "   '--witharg2=another'], # так и через знак '=' \n",
        "  '',                                   # не используем односимвольные параметры\n",
        "  ['noarg', 'witharg=', 'witharg2='],   # длинные параметры, noarg - без аргумента, witharg, witharg2 с аргументами, т.к. мы добавили за ними '='\n",
        ")\n",
        "for opt in opts:\n",
        "  print(opt)"
      ],
      "execution_count": null,
      "outputs": [
        {
          "output_type": "stream",
          "text": [
            "('--noarg', '')\n",
            "('--witharg', 'val')\n",
            "('--witharg2', 'another')\n"
          ],
          "name": "stdout"
        }
      ]
    },
    {
      "cell_type": "markdown",
      "metadata": {
        "id": "De9bNUL8pl8U"
      },
      "source": [
        "Важная особенность, длинный параметр не обязательно указывать полностью, если его начало уникально\n"
      ]
    },
    {
      "cell_type": "code",
      "metadata": {
        "colab": {
          "base_uri": "https://localhost:8080/"
        },
        "id": "qOW2OaNdpkhw",
        "outputId": "7ce5e85c-5692-41ad-8aa5-fe46b542a66a"
      },
      "source": [
        "import getopt\n",
        "opts, args = getopt.getopt(\n",
        "  ['--a', 'yes'],    # указываем первую букву длинного параметра\n",
        "  '',                     \n",
        "  ['argumented='])   # длинный параметр\n",
        "for opt in opts:\n",
        "  print(opt)"
      ],
      "execution_count": null,
      "outputs": [
        {
          "output_type": "stream",
          "text": [
            "('--argumented', 'yes')\n"
          ],
          "name": "stdout"
        }
      ]
    },
    {
      "cell_type": "markdown",
      "metadata": {
        "id": "fgyr7DiWrMna"
      },
      "source": [
        "args - аргументы, оставщиеся без обработки\n"
      ]
    },
    {
      "cell_type": "code",
      "metadata": {
        "colab": {
          "base_uri": "https://localhost:8080/"
        },
        "id": "GmyXtKFRrcI3",
        "outputId": "4c7385f6-fb7f-4a13-f118-99cf9326cbf0"
      },
      "source": [
        "import getopt\n",
        "opts, remainder = getopt.getopt(\n",
        "  ['-a', 'yes',\n",
        "   'chto_', \n",
        "   '--eto',     # не засчитан, т.к. идет после элемента, не являющегося параметром\n",
        "   'voobwe'],\n",
        "  'a:',\n",
        "  ['eto'])\n",
        "\n",
        "print(\"Обработанные данные:\")\n",
        "for opt in opts:\n",
        "  print('\\t',opt)\n",
        "print(\"Оставщиеся без обработки данные:\")\n",
        "for item in remainder:\n",
        "  print('\\t'+item)"
      ],
      "execution_count": null,
      "outputs": [
        {
          "output_type": "stream",
          "text": [
            "Обработанные данные:\n",
            "\t ('-a', 'yes')\n",
            "Оставщиеся без обработки данные:\n",
            "\tchto_\n",
            "\t--eto\n",
            "\tvoobwe\n"
          ],
          "name": "stdout"
        }
      ]
    },
    {
      "cell_type": "markdown",
      "metadata": {
        "id": "GrKZGaurtmUs"
      },
      "source": [
        "Чтобы обрабатывать аргументы являющиеся и не являющиеся параметрами в перемешку можно использовать функцию gnu_getopt()"
      ]
    },
    {
      "cell_type": "code",
      "metadata": {
        "colab": {
          "base_uri": "https://localhost:8080/"
        },
        "id": "zdO8L8J4t4fo",
        "outputId": "5114d0fc-2afb-40c7-9cbd-29f3dd50a1a1"
      },
      "source": [
        "import getopt\n",
        "opts, remainder = getopt.gnu_getopt( # единственное отличие от предыдущего примера\n",
        "  ['-a', 'yes',\n",
        "   'chto_', \n",
        "   '--eto',     # засчитывается, т.к. мы используем функцию gnu_getopt\n",
        "   'voobwe'],\n",
        "  'a:',\n",
        "  ['eto'])\n",
        "\n",
        "print(\"Обработанные данные:\")\n",
        "for opt in opts:\n",
        "  print('\\t',opt)\n",
        "print(\"Оставщиеся без обработки данные:\")\n",
        "for item in remainder:\n",
        "  print('\\t'+item)"
      ],
      "execution_count": null,
      "outputs": [
        {
          "output_type": "stream",
          "text": [
            "Обработанные данные:\n",
            "\t ('-a', 'yes')\n",
            "\t ('--eto', '')\n",
            "Оставщиеся без обработки данные:\n",
            "\tchto_\n",
            "\tvoobwe\n"
          ],
          "name": "stdout"
        }
      ]
    },
    {
      "cell_type": "markdown",
      "metadata": {
        "id": "fbOIw7-_f6yB"
      },
      "source": [
        "Модуль getopt не считается устаревшим, однако модуль argparse получает более активную поддержку, и поэтому именно его рекомендуется использовать\n",
        "в новых разработках."
      ]
    },
    {
      "cell_type": "markdown",
      "metadata": {
        "id": "KpK7P6IDea1X"
      },
      "source": [
        "## Модуль **argparse** используется с той же целью, но имеет другую реализацию и отличается в использовании."
      ]
    },
    {
      "cell_type": "markdown",
      "metadata": {
        "id": "kQSoYHx7K0Py"
      },
      "source": [
        "Прежде всего необходимо создать объект парсера и передать ему информацию об ожидаемых аргументах. Далее этот анализатор можно использовать для обработки аргументов командной строки.\n"
      ]
    },
    {
      "cell_type": "code",
      "metadata": {
        "colab": {
          "base_uri": "https://localhost:8080/"
        },
        "id": "C0L3KBFfMIOR",
        "outputId": "9e38d83b-1d8f-48bd-c3c5-26f620832762"
      },
      "source": [
        "import argparse # импортируем модуль\n",
        "parser = argparse.ArgumentParser(\n",
        "  description='Это спустой парсер',\n",
        ")\n",
        "print(parser)"
      ],
      "execution_count": null,
      "outputs": [
        {
          "output_type": "stream",
          "text": [
            "ArgumentParser(prog='ipykernel_launcher.py', usage=None, description='Это спустой парсер', formatter_class=<class 'argparse.HelpFormatter'>, conflict_handler='error', add_help=True)\n"
          ],
          "name": "stdout"
        }
      ]
    },
    {
      "cell_type": "markdown",
      "metadata": {
        "id": "eUcDSTONM6bU"
      },
      "source": [
        "После создания парсера ему нужно передать аргументы, с которыми он будет работать. Это делается с помощью метода add_argument(). action - действие над аргументом (хранить, хранить булевое значение, прибавлять и т.д. default - значение по-умолчанию. dest - название аргумента на выходе. type - тип."
      ]
    },
    {
      "cell_type": "markdown",
      "metadata": {
        "id": "sc01TY8EQoaf"
      },
      "source": [
        "Короткие (простые) аргументы:\n"
      ]
    },
    {
      "cell_type": "code",
      "metadata": {
        "colab": {
          "base_uri": "https://localhost:8080/"
        },
        "id": "MZEgha61NiEK",
        "outputId": "8a95eb44-9356-415a-b4ad-69fc7cad1348"
      },
      "source": [
        "import argparse\n",
        "parser = argparse.ArgumentParser(description='Простой парсер аргументов')\n",
        "\n",
        "parser.add_argument('-a', action=\"store_true\", default=False) # добавляем аргумент a, задаем ему булевый тип и указываем значение по-умолчанию\n",
        "parser.add_argument('-b', action=\"store\", dest=\"b\")           # аргумент b - строкового типа\n",
        "parser.add_argument('-c', action=\"store\", dest=\"c\", type=int) # аргумент c - типа integer\n",
        "print(parser.parse_args(['-a',    # т.к. агрумент хранит булевое значение, нам не нужен апараметр\n",
        "                         '-bval', # передаем параметр слитно после аргумента\n",
        "                         '-c','3' # передаем параметр через пробле после аргумента\n",
        "                         ]))         "
      ],
      "execution_count": null,
      "outputs": [
        {
          "output_type": "stream",
          "text": [
            "Namespace(a=True, b='val', c=3)\n"
          ],
          "name": "stdout"
        }
      ]
    },
    {
      "cell_type": "markdown",
      "metadata": {
        "id": "n9NjnTK6Qmwm"
      },
      "source": [
        "Длинные аргументы:\n"
      ]
    },
    {
      "cell_type": "code",
      "metadata": {
        "colab": {
          "base_uri": "https://localhost:8080/"
        },
        "id": "zxBbuKZ6QvZS",
        "outputId": "0877bbb5-9795-4ae2-aa1e-4fbe26d64fc4"
      },
      "source": [
        "import argparse\n",
        "parser = argparse.ArgumentParser(description='Простой пример с длинными аргументами')\n",
        "parser.add_argument(\"--noarg\", action=\"store_true\",default=False)\n",
        "parser.add_argument(\"--witharg\", action=\"store\",dest=\"witharg\")\n",
        "parser.add_argument(\"--witharg2\", action=\"store\",dest=\"witharg2\", type=int)\n",
        "\n",
        "print(parser.parse_args(['--noarg', '--witharg', 'val', '--witharg2=3']))"
      ],
      "execution_count": null,
      "outputs": [
        {
          "output_type": "stream",
          "text": [
            "Namespace(noarg=True, witharg='val', witharg2=3)\n"
          ],
          "name": "stdout"
        }
      ]
    },
    {
      "cell_type": "markdown",
      "metadata": {
        "id": "8PM4ambtT4Rf"
      },
      "source": [
        "Пример с обязательными аргументами"
      ]
    },
    {
      "cell_type": "code",
      "metadata": {
        "colab": {
          "base_uri": "https://localhost:8080/"
        },
        "id": "hyBRDdI8UAOW",
        "outputId": "bf9f5ee8-9c78-4a29-ebed-7924d4a3f2de"
      },
      "source": [
        "import argparse\n",
        "parser = argparse.ArgumentParser(description='пример с обязательными аргументами')\n",
        "parser.add_argument('first_int', action=\"store\",type=int)   # для обязательных аргуметов не используем '--'\n",
        "parser.add_argument('second_str', action=\"store\")\n",
        "\n",
        "print(parser.parse_args(['123','test']))"
      ],
      "execution_count": null,
      "outputs": [
        {
          "output_type": "stream",
          "text": [
            "Namespace(first_int=123, second_str='test')\n"
          ],
          "name": "stdout"
        }
      ]
    },
    {
      "cell_type": "markdown",
      "metadata": {
        "id": "1UYNlaeiWP5V"
      },
      "source": [
        "Если не передать обязательный аргумент, то получим сообщение об ошибке:"
      ]
    },
    {
      "cell_type": "code",
      "metadata": {
        "colab": {
          "base_uri": "https://localhost:8080/",
          "height": 181
        },
        "id": "YaVuiL2sWVH3",
        "outputId": "fc4c3c01-7e63-44ab-cf57-79a0cefcf1ad"
      },
      "source": [
        "import argparse\n",
        "parser = argparse.ArgumentParser(description='пример с обязательными аргументами')\n",
        "parser.add_argument('first_int', action=\"store\",type=int)   # для обязательных аргуметов не используем '--'\n",
        "parser.add_argument('second_str', action=\"store\")\n",
        "\n",
        "print(parser.parse_args(['123']))"
      ],
      "execution_count": null,
      "outputs": [
        {
          "output_type": "stream",
          "text": [
            "usage: ipykernel_launcher.py [-h] first_int second_str\n",
            "ipykernel_launcher.py: error: the following arguments are required: second_str\n"
          ],
          "name": "stderr"
        },
        {
          "output_type": "error",
          "ename": "SystemExit",
          "evalue": "ignored",
          "traceback": [
            "An exception has occurred, use %tb to see the full traceback.\n",
            "\u001b[0;31mSystemExit\u001b[0m\u001b[0;31m:\u001b[0m 2\n"
          ]
        },
        {
          "output_type": "stream",
          "text": [
            "/usr/local/lib/python3.6/dist-packages/IPython/core/interactiveshell.py:2890: UserWarning: To exit: use 'exit', 'quit', or Ctrl-D.\n",
            "  warn(\"To exit: use 'exit', 'quit', or Ctrl-D.\", stacklevel=1)\n"
          ],
          "name": "stderr"
        }
      ]
    },
    {
      "cell_type": "markdown",
      "metadata": {
        "id": "qkPd6bcKZXp7"
      },
      "source": [
        "Действия (аргумент action). При получении аргумента может быть синициировано одно из действий: \n",
        "\n",
        "• store. Сохранить значение.\n",
        "\n",
        "\n",
        "• store_const. Сохранить значение, определенное как часть спецификации\n",
        "аргумента, а не как значение, происходящее от анализируемого аргумента. Как правило, этой возможностью пользуются для реализации флагов, не являющихся булевыми значениями.\n",
        "\n",
        "\n",
        "• store_true/store_false. Сохранить подходящее булево значение. Эти\n",
        "действия используются для реализации булевых переключателей. (разниа в значении по-умолчанию)\n",
        "\n",
        "\n",
        "\n",
        "• append. Сохранить значение в списке. Если аргумент повторяется, сохраня-\n",
        "ются несколько значений.\n",
        "\n",
        "\n",
        "\n",
        "• append_const. Сохранить значение, определенное в спецификации аргу-\n",
        "мента, в списке.\n",
        "\n",
        "\n",
        "\n",
        "• version. Вывести подробную информацию о версии программы и завер-\n",
        "шить выполнение."
      ]
    },
    {
      "cell_type": "code",
      "metadata": {
        "colab": {
          "base_uri": "https://localhost:8080/",
          "height": 368
        },
        "id": "-yL-khExaOiK",
        "outputId": "866a16b6-8aea-4f3c-9916-0a1a41a10ee9"
      },
      "source": [
        "import argparse\n",
        "parser = argparse.ArgumentParser()\n",
        "parser.add_argument('-s', action='store',\n",
        "    dest='simple_value',\n",
        "    help='просто сохраняет значение')\n",
        "parser.add_argument('-c', action='store_const',\n",
        "    dest='constant_value',\n",
        "    const='value-to-store',\n",
        "    help='сохраняет константу')\n",
        "\n",
        "parser.add_argument('-t', action='store_true',\n",
        "    default=False,\n",
        "    dest='boolean_t',\n",
        "    help='переключает значенике на True')\n",
        "\n",
        "parser.add_argument('-f', action='store_false',\n",
        "  default=True,\n",
        "  dest='boolean_f',\n",
        "  help='переключает значение на False')\n",
        "\n",
        "parser.add_argument('-a', action='append',\n",
        "  dest='collection',\n",
        "  default=[],\n",
        "  help='добавляет значения в list')\n",
        "\n",
        "parser.add_argument('-A', action='append_const',\n",
        "  dest='const_collection',      # добавляет значение в тот же список, что и -B\n",
        "  const='value-to-append',                      \n",
        "  default=[],\n",
        "  help='добавляет разные значаения в list')\n",
        "\n",
        "parser.add_argument('-B', action='append_const',\n",
        "  dest='const_collection',    # добавляет значение в тот же список, что и -A\n",
        "  const='value-2-to-append',\n",
        "  help='добавляет значения в тот же list')\n",
        "\n",
        "parser.add_argument('--version', action='version',\n",
        "                    version='%(prog)s 1.0')\n",
        "\n",
        "results = parser.parse_args((['-h']))\n",
        "print('simple_value = {!r)'.format(results.simple_value))\n",
        "print('constant_value = {!r)'.format(results.constant_value))\n",
        "print('boolean_t = {!r}'.format(results.boolean_t))\n",
        "print('boolean_f = {!r)'.format(results.boolean_f))\n",
        "print('collection = {!r|'.format(results.collection))\n",
        "print('const__collection = {!r}'.format(results.const_collection))\n"
      ],
      "execution_count": null,
      "outputs": [
        {
          "output_type": "stream",
          "text": [
            "usage: ipykernel_launcher.py [-h] [-s SIMPLE_VALUE] [-c] [-t] [-f]\n",
            "                             [-a COLLECTION] [-A] [-B] [--version]\n",
            "\n",
            "optional arguments:\n",
            "  -h, --help       show this help message and exit\n",
            "  -s SIMPLE_VALUE  просто сохраняет значение\n",
            "  -c               сохраняет константу\n",
            "  -t               переключает значенике на True\n",
            "  -f               переключает значение на False\n",
            "  -a COLLECTION    добавляет значение в list\n",
            "  -A               добавляет разные значаения в list\n",
            "  -B               добавляет значения в тот же list\n",
            "  --version        show program's version number and exit\n"
          ],
          "name": "stdout"
        },
        {
          "output_type": "error",
          "ename": "SystemExit",
          "evalue": "ignored",
          "traceback": [
            "An exception has occurred, use %tb to see the full traceback.\n",
            "\u001b[0;31mSystemExit\u001b[0m\u001b[0;31m:\u001b[0m 0\n"
          ]
        },
        {
          "output_type": "stream",
          "text": [
            "/usr/local/lib/python3.6/dist-packages/IPython/core/interactiveshell.py:2890: UserWarning: To exit: use 'exit', 'quit', or Ctrl-D.\n",
            "  warn(\"To exit: use 'exit', 'quit', or Ctrl-D.\", stacklevel=1)\n"
          ],
          "name": "stderr"
        }
      ]
    },
    {
      "cell_type": "markdown",
      "metadata": {
        "id": "FCz6JZQHcjn0"
      },
      "source": [
        "Пример:"
      ]
    },
    {
      "cell_type": "code",
      "metadata": {
        "colab": {
          "base_uri": "https://localhost:8080/"
        },
        "id": "1FsfwQ8EclQq",
        "outputId": "ca0c765d-fc5a-4120-a18d-8072ae2f11b8"
      },
      "source": [
        "import argparse\n",
        "parser = argparse.ArgumentParser()\n",
        "parser.add_argument('-s', action='store',\n",
        "    dest='simple_value',\n",
        "    help='просто сохраняет значение')\n",
        "parser.add_argument('-c', action='store_const',\n",
        "    dest='constant_value',\n",
        "    const='value-to-store',\n",
        "    help='сохраняет константу')\n",
        "\n",
        "parser.add_argument('-t', action='store_true',\n",
        "    default=False,\n",
        "    dest='boolean_t',\n",
        "    help='переключает значенике на True')\n",
        "\n",
        "parser.add_argument('-f', action='store_false',\n",
        "  default=True,\n",
        "  dest='boolean_f',\n",
        "  help='переключает значение на False')\n",
        "\n",
        "parser.add_argument('-a', action='append',\n",
        "  dest='collection',\n",
        "  default=[],\n",
        "  help='добавляет значения в list')\n",
        "\n",
        "parser.add_argument('-A', action='append_const',\n",
        "  dest='const_collection',      # добавляет ЗАРАНЕЕ ЗАДАННОЕ значение в тот же список, что и -B\n",
        "  const='value-to-append',                      \n",
        "  default=[],\n",
        "  help='добавляет разные значаения в list')\n",
        "\n",
        "parser.add_argument('-B', action='append_const',\n",
        "  dest='const_collection',    # добавляет ЗАРАНЕЕ ЗАДАННОЕ значение в тот же список, что и -A\n",
        "  const='value-2-to-append',\n",
        "  help='добавляет значения в тот же list')\n",
        "\n",
        "parser.add_argument('--version', action='version',\n",
        "                    version='%(prog)s 1.0')\n",
        "\n",
        "results = parser.parse_args([\n",
        "                              '-a','one','-a','two','-athree', # добавляем три значения в лист\n",
        "                             '-t', # перключаем на True\n",
        "                             '-f',  # переключаем на False\n",
        "                            '-A',   # добавляем константу в список\n",
        "                             '-B'   # добавляем вторую константу в список\n",
        "                        ])\n",
        "print('simple_value = {!r}'.format(results.simple_value))\n",
        "print('constant_value = {!r}'.format(results.constant_value))\n",
        "print('boolean_t = {!r}'.format(results.boolean_t))\n",
        "print('boolean_f = {!r}'.format(results.boolean_f))\n",
        "print('collection = {!r}'.format(results.collection))\n",
        "print('const__collection = {!r}'.format(results.const_collection))\n"
      ],
      "execution_count": null,
      "outputs": [
        {
          "output_type": "stream",
          "text": [
            "simple_value = None\n",
            "constant_value = None\n",
            "boolean_t = True\n",
            "boolean_f = False\n",
            "collection = ['one', 'two', 'three']\n",
            "const__collection = ['value-to-append', 'value-2-to-append']\n"
          ],
          "name": "stdout"
        }
      ]
    },
    {
      "cell_type": "markdown",
      "metadata": {
        "id": "0dN5UgYxfuk-"
      },
      "source": [
        "argparse имеет очень обширный функционал, который на мой взгляд бессмысленно рассматривать весь в форме доклада, для справки и дальнейшего изучения \n",
        "приведу примеры того, что еще позволяет этот модуль.\n",
        "\n",
        "\n",
        "* задание префикса для параметров (напрмер '/' вместо '-' для Windows\n",
        "* автоматическая генерация справки (также ее модификация)\n",
        "* наследование от другого парсера (также подключение саб-парсеров с отдельной спрвкой)\n",
        "* группировка аргументов (включая взаимоисключающие параметры)\n",
        "* агрументы со списком допустимых значений\n",
        "* передача файла в качестве аргумента\n",
        "* создание пользовательских действий\n",
        "\n",
        "\n"
      ]
    },
    {
      "cell_type": "markdown",
      "metadata": {
        "id": "DomJWJ49jG2Z"
      },
      "source": [
        "# **getpass** для вода пароля"
      ]
    },
    {
      "cell_type": "markdown",
      "metadata": {
        "id": "bmrKDI6tjLSS"
      },
      "source": [
        "При вводе пароля принято делатб это таким образом, чтобы никто из посторонних не смог подсмотреть его на экране. getpass помогает в этом "
      ]
    },
    {
      "cell_type": "markdown",
      "metadata": {
        "id": "B7fZv7kD4vi0"
      },
      "source": [
        "Функция getpass() выводит подсказку, а затем читает вводимый пользовате-\n",
        "лем текст, пока не будет нажата клавиша Enter. Введенный текст возвращается\n",
        "вызывающему коду в виде строки."
      ]
    },
    {
      "cell_type": "code",
      "metadata": {
        "colab": {
          "base_uri": "https://localhost:8080/"
        },
        "id": "NVEW9OrU5JxL",
        "outputId": "878c81cc-2f85-4e0a-8051-c6ecdf0b1c40"
      },
      "source": [
        "import getpass\n",
        "p = getpass.getpass() # выводим сообщение о необходимости ввода пароля и принимаем пароль в переменную \n",
        "print('You entered:', p)"
      ],
      "execution_count": null,
      "outputs": [
        {
          "output_type": "stream",
          "text": [
            "··········\n",
            "You entered: qwe\n"
          ],
          "name": "stdout"
        }
      ]
    },
    {
      "cell_type": "markdown",
      "metadata": {
        "id": "K-Qh1xYH5kRG"
      },
      "source": [
        "Вместо стандартной подсказки \"Password: \" можно вывести другой текст при запросе пароля"
      ]
    },
    {
      "cell_type": "code",
      "metadata": {
        "colab": {
          "base_uri": "https://localhost:8080/"
        },
        "id": "jAByfN1e5qCk",
        "outputId": "451b960a-50cc-4830-c543-e4bf0a788805"
      },
      "source": [
        "import getpass\n",
        "p = getpass.getpass(prompt='Сколько тебе лет? ')\n",
        "if int(p) < 18:\n",
        "  print('нет, ты еще ребенок')\n",
        "else:\n",
        "  print('ты ведь уже взрослый')"
      ],
      "execution_count": null,
      "outputs": [
        {
          "output_type": "stream",
          "text": [
            "Сколько тебе лет? ··········\n",
            "ты ведь уже взрослый\n"
          ],
          "name": "stdout"
        }
      ]
    },
    {
      "cell_type": "markdown",
      "metadata": {
        "id": "DqlpG5PR606n"
      },
      "source": [
        "Так же стандартный поток вывода можно перенаправить в другой канал или файл с помощью getpass.getpass(stream=*канал вывода*)"
      ]
    },
    {
      "cell_type": "markdown",
      "metadata": {
        "id": "Jc4G1lec8JV9"
      },
      "source": [
        "# `cmd`: построчные командные процессоры"
      ]
    },
    {
      "cell_type": "markdown",
      "metadata": {
        "id": "4bQwtduR8LKk"
      },
      "source": [
        "Модуль cmd содержит общедоступный класс Cmd, предназначенный для исполь-\n",
        "зования в качестве базового класса для интерактивных оболочек и других интер-\n",
        "претаторов команд.\n",
        "\n",
        "Интерпретатор команд, создаваемый c помощью модуля cmd, использует цикл\n",
        "для чтения входных строк, их синтаксического анализа и последующей передачи команды соответствующему обработчику. Входные строки разбиваются на две части: команду и другой текст, находящийся в данной строке. Например, если пользователь введет foo bar, а класс интерпретатора включает метод c именем do_foo(), то этот метод будет вызван c \"bar” в качестве единственного аргумента."
      ]
    },
    {
      "cell_type": "code",
      "metadata": {
        "colab": {
          "base_uri": "https://localhost:8080/"
        },
        "id": "KXDw_H5A8oBO",
        "outputId": "e852d484-4081-4df7-bb86-e23ed3daa4b1"
      },
      "source": [
        "import cmd\n",
        "\n",
        "class HelloWorld(cmd.Cmd):\n",
        "  def do_greet(self, line):     # если ввести 'greet' то выполняется метод do_greet()\n",
        "    \"\"\"greet [person]\n",
        "    Greet the named person\"\"\"  # описание для команды help\n",
        "    print(\"hello\")\n",
        "  def do_EOF(self, line):     # этот метод выполняется если закончить ввод (control+D)\n",
        "    print(\"end of file\")\n",
        "    return True\n",
        "\n",
        "if __name__ == '__main__' :\n",
        "  HelloWorld().cmdloop()    # запускаем нашу программу в цикле"
      ],
      "execution_count": null,
      "outputs": [
        {
          "output_type": "stream",
          "text": [
            "(Cmd) help\n",
            "\n",
            "Documented commands (type help <topic>):\n",
            "========================================\n",
            "greet  help\n",
            "\n",
            "Undocumented commands:\n",
            "======================\n",
            "EOF\n",
            "\n",
            "(Cmd) help greet\n",
            "greet [person]\n",
            "    Greet the named person\n",
            "(Cmd) greet\n",
            "hello\n",
            "(Cmd) \u0004\n",
            "end of file\n"
          ],
          "name": "stdout"
        }
      ]
    },
    {
      "cell_type": "markdown",
      "metadata": {
        "id": "7fYzx4ID9odo"
      },
      "source": [
        "cmd включает в себя команду help по умолчанию"
      ]
    },
    {
      "cell_type": "code",
      "metadata": {
        "colab": {
          "base_uri": "https://localhost:8080/"
        },
        "id": "EGON7zxb-giJ",
        "outputId": "2326525b-9e94-493d-ed63-fcf501a33628"
      },
      "source": [
        "import cmd\n",
        "\n",
        "class HelloWorld(cmd.Cmd):\n",
        "  def do_greet(self, person):  # greet теперь принимает агрумент\n",
        "    \"\"\"greet [person]\n",
        "    Greet the named person\"\"\"\n",
        "    if person:\n",
        "      print(\"hi,\", person)\n",
        "    else:\n",
        "      print('hi')\n",
        "\n",
        "  def do_EOF(self, line):\n",
        "    return True\n",
        "\n",
        "  def postloop(self):\n",
        "    print()\n",
        "\n",
        "\n",
        "if __name__ == '__main__' :\n",
        "  HelloWorld().cmdloop()"
      ],
      "execution_count": null,
      "outputs": [
        {
          "output_type": "stream",
          "text": [
            "(Cmd) greet\n",
            "hi\n",
            "(Cmd) greet gleb\n",
            "hi, gleb\n",
            "(Cmd) \u0004\n",
            "\n"
          ],
          "name": "stdout"
        }
      ]
    },
    {
      "cell_type": "markdown",
      "metadata": {
        "id": "zV8sEnGWAIbQ"
      },
      "source": [
        "Конфигурирование с помощью атрибутов класса\n"
      ]
    },
    {
      "cell_type": "code",
      "metadata": {
        "colab": {
          "base_uri": "https://localhost:8080/"
        },
        "id": "6iqa-21QAMDn",
        "outputId": "477016c6-5f5b-452e-8abb-d2efb62afeb1"
      },
      "source": [
        "import cmd\n",
        "class HelloWorld(cmd.Cmd):\n",
        "  prompt = 'приглашение к вводу: '\n",
        "  intro = \"Интро текст.\"\n",
        "  doc_header = 'команды с документацией'\n",
        "  undoc_header = 'команды без документации'\n",
        "  ruler = '-'\n",
        "\n",
        "  def do_prompt(self, line):\n",
        "    \"Изменить интерактивную подсказку\"\n",
        "    self.prompt = line + ': '\n",
        "  def do_EOF(self, line):\n",
        "    return True\n",
        "\n",
        "if __name__ == '__main__' :\n",
        "  HelloWorld().cmdloop()\n"
      ],
      "execution_count": null,
      "outputs": [
        {
          "output_type": "stream",
          "text": [
            "Интро текст.\n",
            "приглашение к вводу: help\n",
            "\n",
            "команды с документацией\n",
            "-----------------------\n",
            "help  prompt\n",
            "\n",
            "команды без документации\n",
            "------------------------\n",
            "EOF\n",
            "\n",
            "приглашение к вводу: help prompt\n",
            "Изменить интерактивную подсказку\n",
            "приглашение к вводу: prompt лучшее приглашение к вводу\n",
            "лучшее приглашение к вводу: \u0004\n"
          ],
          "name": "stdout"
        }
      ]
    },
    {
      "cell_type": "markdown",
      "metadata": {
        "id": "u9hQJokiBPzF"
      },
      "source": [
        "Команды также можно передовать в виде аргументов командной строки:\n"
      ]
    },
    {
      "cell_type": "code",
      "metadata": {
        "colab": {
          "base_uri": "https://localhost:8080/"
        },
        "id": "WGF_47o9BVsQ",
        "outputId": "60e2ff26-00a0-4200-a6f0-5ed2436dadf1"
      },
      "source": [
        "import cmd\n",
        "\n",
        "class InteractiveOrCommandLine(cmd.Cmd):\n",
        "  \"\"\"\"Принимает команды через обычную интерактивную подсказку\n",
        "  или из командной строки.\"\"\"\n",
        "  def do_greet(self, line):\n",
        "    print('hello,', line)\n",
        "  def do_EOF(self, line):\n",
        "    return True\n",
        "\n",
        "if __name__ == '__main__':\n",
        "  import sys\n",
        "  if len(sys.argv) > 1:\n",
        "    InteractiveOrCommandLine().onecmd(' '.join(sys.argv[1:]))\n",
        "  else:\n",
        "    InteractiveOrCommandLine().cmdloop()"
      ],
      "execution_count": 1,
      "outputs": [
        {
          "output_type": "stream",
          "text": [
            "*** Unknown syntax: -f /root/.local/share/jupyter/runtime/kernel-b48bab65-0d62-4327-a5a1-4b9cc2565900.json\n"
          ],
          "name": "stdout"
        }
      ]
    },
    {
      "cell_type": "markdown",
      "metadata": {
        "id": "IQJVrmFrOPWd"
      },
      "source": [
        "домашняя работа:\n",
        "\n",
        "1) какой модуль рекомендуется использовать для анализа параметров командной строки?\n",
        "\n",
        "2) что происходит с аргументами, которые не являются параметрами в случае использования модуля getopt?\n",
        "\n",
        "3) чем отличаются действия (action) store_true и store_false (метод add_argument)?"
      ]
    }
  ]
}